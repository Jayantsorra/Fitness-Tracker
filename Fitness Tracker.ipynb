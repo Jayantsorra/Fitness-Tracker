{
 "cells": [
  {
   "cell_type": "code",
   "execution_count": 1,
   "id": "6c148dc9-3acf-4f10-ada7-1377260d7900",
   "metadata": {},
   "outputs": [
    {
     "name": "stdout",
     "output_type": "stream",
     "text": [
      "\n",
      "--- Fitness Tracker Menu ---\n",
      "1. Track Steps\n",
      "2. Track Calories Burned\n",
      "3. View Summary\n",
      "4. Exit\n"
     ]
    },
    {
     "name": "stdin",
     "output_type": "stream",
     "text": [
      "Enter your choice:  1\n",
      "Enter number of steps:  5000\n"
     ]
    },
    {
     "name": "stdout",
     "output_type": "stream",
     "text": [
      "Steps tracked successfully!\n",
      "\n",
      "--- Fitness Tracker Menu ---\n",
      "1. Track Steps\n",
      "2. Track Calories Burned\n",
      "3. View Summary\n",
      "4. Exit\n"
     ]
    },
    {
     "name": "stdin",
     "output_type": "stream",
     "text": [
      "Enter your choice:  2\n",
      "Enter number of calories burned:  250\n"
     ]
    },
    {
     "name": "stdout",
     "output_type": "stream",
     "text": [
      "Calories burned tracked successfully!\n",
      "\n",
      "--- Fitness Tracker Menu ---\n",
      "1. Track Steps\n",
      "2. Track Calories Burned\n",
      "3. View Summary\n",
      "4. Exit\n"
     ]
    },
    {
     "name": "stdin",
     "output_type": "stream",
     "text": [
      "Enter your choice:  3\n"
     ]
    },
    {
     "name": "stdout",
     "output_type": "stream",
     "text": [
      "\n",
      "--- Fitness Tracker Summary ---\n",
      "Steps: 5000, Calories Burned: 250\n",
      "\n",
      "--- Fitness Tracker Menu ---\n",
      "1. Track Steps\n",
      "2. Track Calories Burned\n",
      "3. View Summary\n",
      "4. Exit\n"
     ]
    },
    {
     "name": "stdin",
     "output_type": "stream",
     "text": [
      "Enter your choice:  4\n"
     ]
    },
    {
     "name": "stdout",
     "output_type": "stream",
     "text": [
      "Exiting...\n"
     ]
    }
   ],
   "source": [
    "class FitnessTracker:\n",
    "    def __init__(self):\n",
    "        self.steps = 0\n",
    "        self.calories_burned = 0\n",
    "\n",
    "    def track_steps(self, steps):\n",
    "        self.steps += steps\n",
    "\n",
    "    def track_calories_burned(self, calories):\n",
    "        self.calories_burned += calories\n",
    "\n",
    "    def get_summary(self):\n",
    "        return f\"Steps: {self.steps}, Calories Burned: {self.calories_burned}\"\n",
    "\n",
    "\n",
    "def main():\n",
    "    tracker = FitnessTracker()\n",
    "\n",
    "    while True:\n",
    "        print(\"\\n--- Fitness Tracker Menu ---\")\n",
    "        print(\"1. Track Steps\")\n",
    "        print(\"2. Track Calories Burned\")\n",
    "        print(\"3. View Summary\")\n",
    "        print(\"4. Exit\")\n",
    "\n",
    "        choice = input(\"Enter your choice: \")\n",
    "\n",
    "        if choice == \"1\":\n",
    "            steps = int(input(\"Enter number of steps: \"))\n",
    "            tracker.track_steps(steps)\n",
    "            print(\"Steps tracked successfully!\")\n",
    "        elif choice == \"2\":\n",
    "            calories = int(input(\"Enter number of calories burned: \"))\n",
    "            tracker.track_calories_burned(calories)\n",
    "            print(\"Calories burned tracked successfully!\")\n",
    "        elif choice == \"3\":\n",
    "            summary = tracker.get_summary()\n",
    "            print(\"\\n--- Fitness Tracker Summary ---\")\n",
    "            print(summary)\n",
    "        elif choice == \"4\":\n",
    "            print(\"Exiting...\")\n",
    "            break\n",
    "        else:\n",
    "            print(\"Invalid choice. Please enter a valid option.\")\n",
    "\n",
    "\n",
    "if __name__ == \"__main__\":\n",
    "    main()\n"
   ]
  },
  {
   "cell_type": "code",
   "execution_count": null,
   "id": "9dc5ca9c-9331-4bc5-9c46-6093e5f042e1",
   "metadata": {},
   "outputs": [],
   "source": []
  }
 ],
 "metadata": {
  "kernelspec": {
   "display_name": "Python 3 (ipykernel)",
   "language": "python",
   "name": "python3"
  },
  "language_info": {
   "codemirror_mode": {
    "name": "ipython",
    "version": 3
   },
   "file_extension": ".py",
   "mimetype": "text/x-python",
   "name": "python",
   "nbconvert_exporter": "python",
   "pygments_lexer": "ipython3",
   "version": "3.11.7"
  }
 },
 "nbformat": 4,
 "nbformat_minor": 5
}
